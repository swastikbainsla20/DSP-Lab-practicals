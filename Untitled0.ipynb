{
  "nbformat": 4,
  "nbformat_minor": 0,
  "metadata": {
    "colab": {
      "provenance": []
    },
    "kernelspec": {
      "name": "python3",
      "display_name": "Python 3"
    },
    "language_info": {
      "name": "python"
    }
  },
  "cells": [
    {
      "cell_type": "code",
      "execution_count": 1,
      "metadata": {
        "colab": {
          "base_uri": "https://localhost:8080/"
        },
        "collapsed": true,
        "id": "6TlWiTWDyJNu",
        "outputId": "2d0042a9-6b02-4488-913f-4c122938cef7"
      },
      "outputs": [
        {
          "output_type": "stream",
          "name": "stdout",
          "text": [
            "1\n",
            "2\n",
            "3 fuzz\n",
            "4\n",
            "5 buzz\n",
            "6 fuzz\n",
            "7\n",
            "8\n",
            "9 fuzz\n",
            "10 buzz\n",
            "11\n",
            "12 fuzz\n",
            "13\n",
            "14\n",
            "15 fuzz and buzz\n",
            "16\n",
            "17\n",
            "18 fuzz\n",
            "19\n",
            "20 buzz\n",
            "21 fuzz\n",
            "22\n",
            "23\n",
            "24 fuzz\n",
            "25 buzz\n",
            "26\n",
            "27 fuzz\n",
            "28\n",
            "29\n",
            "30 fuzz and buzz\n",
            "31\n",
            "32\n",
            "33 fuzz\n",
            "34\n",
            "35 buzz\n",
            "36 fuzz\n",
            "37\n",
            "38\n",
            "39 fuzz\n",
            "40 buzz\n",
            "41\n",
            "42 fuzz\n",
            "43\n",
            "44\n",
            "45 fuzz and buzz\n",
            "46\n",
            "47\n",
            "48 fuzz\n",
            "49\n",
            "50 buzz\n",
            "51 fuzz\n",
            "52\n",
            "53\n",
            "54 fuzz\n",
            "55 buzz\n",
            "56\n",
            "57 fuzz\n",
            "58\n",
            "59\n",
            "60 fuzz and buzz\n",
            "61\n",
            "62\n",
            "63 fuzz\n",
            "64\n",
            "65 buzz\n",
            "66 fuzz\n",
            "67\n",
            "68\n",
            "69 fuzz\n",
            "70 buzz\n",
            "71\n",
            "72 fuzz\n",
            "73\n",
            "74\n",
            "75 fuzz and buzz\n",
            "76\n",
            "77\n",
            "78 fuzz\n",
            "79\n",
            "80 buzz\n",
            "81 fuzz\n",
            "82\n",
            "83\n",
            "84 fuzz\n",
            "85 buzz\n",
            "86\n",
            "87 fuzz\n",
            "88\n",
            "89\n",
            "90 fuzz and buzz\n",
            "91\n",
            "92\n",
            "93 fuzz\n",
            "94\n",
            "95 buzz\n",
            "96 fuzz\n",
            "97\n",
            "98\n",
            "99 fuzz\n",
            "100 buzz\n"
          ]
        }
      ],
      "source": [
        "for i in range(1, 101):\n",
        "  if i % 3 == 0 and i % 5 == 0:\n",
        "    print(i, 'fuzz and buzz')\n",
        "  elif i % 3 == 0:\n",
        "    print(i, 'fuzz')\n",
        "  elif i % 5 == 0:\n",
        "    print(i, 'buzz')\n",
        "  else:\n",
        "    print(i)\n"
      ]
    },
    {
      "cell_type": "code",
      "source": [
        "num = int(input(\"Enter a number: \"))\n",
        "\n",
        "if num <= 1:\n",
        "  print(num, \"is not a prime number\")\n",
        "else:\n",
        "  is_prime = True\n",
        "  for i in range(2, int(num**0.5) + 1):\n",
        "    if num % i == 0:\n",
        "      is_prime = False\n",
        "      break\n",
        "\n",
        "  if is_prime:\n",
        "    print(num, \"is a prime number\")\n",
        "  else:\n",
        "    print(num, \"is not a prime number\")"
      ],
      "metadata": {
        "colab": {
          "base_uri": "https://localhost:8080/"
        },
        "collapsed": true,
        "id": "f98DBcZH3t0z",
        "outputId": "946fb3e0-357c-447f-8b1d-327556c5371e"
      },
      "execution_count": 6,
      "outputs": [
        {
          "output_type": "stream",
          "name": "stdout",
          "text": [
            "Enter a number: 5\n",
            "5 is a prime number\n"
          ]
        }
      ]
    },
    {
      "cell_type": "code",
      "source": [
        "def is_palindrome(text):\n",
        "  text = text.lower().replace(\" \", \"\")\n",
        "  return text == text[::-1]\n",
        "\n",
        "input_string = input(\"Enter a string: \")\n",
        "if is_palindrome(input_string):\n",
        "  print(\"The string is a palindrome.\")\n",
        "else:\n",
        "  print(\"The string is not a palindrome.\")"
      ],
      "metadata": {
        "collapsed": true,
        "colab": {
          "base_uri": "https://localhost:8080/"
        },
        "id": "og3wH6Xy4h6V",
        "outputId": "5bc7d966-4f78-44cf-8507-3b9ce81979dd"
      },
      "execution_count": 8,
      "outputs": [
        {
          "output_type": "stream",
          "name": "stdout",
          "text": [
            "Enter a string: 121\n",
            "The string is a palindrome.\n"
          ]
        }
      ]
    },
    {
      "cell_type": "code",
      "source": [
        "def largest_digit(number):\n",
        "  largest = 0\n",
        "  for digit in str(number):\n",
        "    digit = int(digit)\n",
        "    if digit > largest:\n",
        "      largest = digit\n",
        "  return largest\n",
        "\n",
        "n = int(input(\"Enter an n-digit number: \"))\n",
        "result = largest_digit(n)\n",
        "print(\"The largest digit is:\", result)\n"
      ],
      "metadata": {
        "colab": {
          "base_uri": "https://localhost:8080/"
        },
        "collapsed": true,
        "id": "zuP81pQy46gt",
        "outputId": "69c6f21c-c5bb-4ba2-fc10-047124c593fc"
      },
      "execution_count": 10,
      "outputs": [
        {
          "output_type": "stream",
          "name": "stdout",
          "text": [
            "Enter an n-digit number: 45\n",
            "The largest digit is: 5\n"
          ]
        }
      ]
    },
    {
      "cell_type": "code",
      "source": [
        "def sum_of_digits(number):\n",
        "  sum = 0\n",
        "  for digit in str(number):\n",
        "    sum += int(digit)\n",
        "  return sum\n",
        "\n",
        "num = int(input(\"Enter a number: \"))\n",
        "result = sum_of_digits(num)\n",
        "print(\"Sum of digits:\", result)\n"
      ],
      "metadata": {
        "colab": {
          "base_uri": "https://localhost:8080/"
        },
        "id": "8kPj2JJI5Nzn",
        "outputId": "19bc9559-10f1-4f27-fb08-0b4e6ab8115d"
      },
      "execution_count": 11,
      "outputs": [
        {
          "output_type": "stream",
          "name": "stdout",
          "text": [
            "Enter a number: 45\n",
            "Sum of digits: 9\n"
          ]
        }
      ]
    }
  ]
}